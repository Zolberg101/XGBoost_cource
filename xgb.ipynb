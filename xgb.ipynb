{
 "cells": [
  {
   "cell_type": "code",
   "execution_count": 29,
   "metadata": {},
   "outputs": [],
   "source": [
    "from numpy import loadtxt\n",
    "from xgboost import XGBClassifier\n",
    "from sklearn.model_selection import train_test_split\n",
    "from sklearn.metrics import accuracy_score\n",
    "from xgboost import plot_importance\n",
    "from matplotlib import pyplot"
   ]
  },
  {
   "cell_type": "code",
   "execution_count": 3,
   "metadata": {},
   "outputs": [],
   "source": [
    "dataset = loadtxt('xgb.txt', delimiter=',')"
   ]
  },
  {
   "cell_type": "code",
   "execution_count": 4,
   "metadata": {},
   "outputs": [
    {
     "data": {
      "text/plain": [
       "array([[  6.   , 148.   ,  72.   , ...,   0.627,  50.   ,   1.   ],\n",
       "       [  1.   ,  85.   ,  66.   , ...,   0.351,  31.   ,   0.   ],\n",
       "       [  8.   , 183.   ,  64.   , ...,   0.672,  32.   ,   1.   ],\n",
       "       ...,\n",
       "       [  5.   , 121.   ,  72.   , ...,   0.245,  30.   ,   0.   ],\n",
       "       [  1.   , 126.   ,  60.   , ...,   0.349,  47.   ,   1.   ],\n",
       "       [  1.   ,  93.   ,  70.   , ...,   0.315,  23.   ,   0.   ]])"
      ]
     },
     "execution_count": 4,
     "metadata": {},
     "output_type": "execute_result"
    }
   ],
   "source": [
    "dataset"
   ]
  },
  {
   "cell_type": "code",
   "execution_count": 5,
   "metadata": {},
   "outputs": [],
   "source": [
    "X = dataset[:,0:8]\n",
    "Y = dataset[:,8]"
   ]
  },
  {
   "cell_type": "code",
   "execution_count": 6,
   "metadata": {},
   "outputs": [],
   "source": [
    "seed=7\n",
    "test_size=0.33"
   ]
  },
  {
   "cell_type": "code",
   "execution_count": 14,
   "metadata": {},
   "outputs": [],
   "source": [
    "X_train, X_test, y_train, y_test = train_test_split(X, Y, test_size=test_size, random_state=seed)"
   ]
  },
  {
   "cell_type": "code",
   "execution_count": 15,
   "metadata": {},
   "outputs": [
    {
     "data": {
      "text/plain": [
       "XGBClassifier(base_score=0.5, booster='gbtree', colsample_bylevel=1,\n",
       "              colsample_bynode=1, colsample_bytree=1, gamma=0, gpu_id=-1,\n",
       "              importance_type='gain', interaction_constraints='',\n",
       "              learning_rate=0.300000012, max_delta_step=0, max_depth=6,\n",
       "              min_child_weight=1, missing=nan, monotone_constraints='()',\n",
       "              n_estimators=100, n_jobs=0, num_parallel_tree=1,\n",
       "              objective='binary:logistic', random_state=0, reg_alpha=0,\n",
       "              reg_lambda=1, scale_pos_weight=1, subsample=1,\n",
       "              tree_method='exact', validate_parameters=1, verbosity=None)"
      ]
     },
     "execution_count": 15,
     "metadata": {},
     "output_type": "execute_result"
    }
   ],
   "source": [
    "model = XGBClassifier()\n",
    "model.fit(X_train, y_train)"
   ]
  },
  {
   "cell_type": "code",
   "execution_count": 16,
   "metadata": {},
   "outputs": [],
   "source": [
    "y_pred = model.predict(X_test)"
   ]
  },
  {
   "cell_type": "code",
   "execution_count": 17,
   "metadata": {},
   "outputs": [],
   "source": [
    "prediction = [round(value) for value in y_pred]"
   ]
  },
  {
   "cell_type": "code",
   "execution_count": 18,
   "metadata": {},
   "outputs": [
    {
     "name": "stdout",
     "output_type": "stream",
     "text": [
      "Accuracy: 74.02%\n"
     ]
    }
   ],
   "source": [
    "accuracy = accuracy_score(y_test, prediction)\n",
    "print('Accuracy: %.2f%%' % (accuracy * 100.0))"
   ]
  },
  {
   "cell_type": "markdown",
   "metadata": {},
   "source": [
    "# # 2"
   ]
  },
  {
   "cell_type": "code",
   "execution_count": 13,
   "metadata": {},
   "outputs": [],
   "source": [
    "eval_set = [(X_test, y_test)]"
   ]
  },
  {
   "cell_type": "code",
   "execution_count": 20,
   "metadata": {
    "scrolled": true
   },
   "outputs": [
    {
     "name": "stdout",
     "output_type": "stream",
     "text": [
      "[0]\tvalidation_0-logloss:0.58321\n",
      "Will train until validation_0-logloss hasn't improved in 10 rounds.\n",
      "[1]\tvalidation_0-logloss:0.50947\n",
      "[2]\tvalidation_0-logloss:0.46168\n",
      "[3]\tvalidation_0-logloss:0.43036\n",
      "[4]\tvalidation_0-logloss:0.40359\n",
      "[5]\tvalidation_0-logloss:0.38114\n",
      "[6]\tvalidation_0-logloss:0.36314\n",
      "[7]\tvalidation_0-logloss:0.35745\n",
      "[8]\tvalidation_0-logloss:0.34808\n",
      "[9]\tvalidation_0-logloss:0.34369\n",
      "[10]\tvalidation_0-logloss:0.33630\n",
      "[11]\tvalidation_0-logloss:0.33299\n",
      "[12]\tvalidation_0-logloss:0.33093\n",
      "[13]\tvalidation_0-logloss:0.32825\n",
      "[14]\tvalidation_0-logloss:0.32616\n",
      "[15]\tvalidation_0-logloss:0.32256\n",
      "[16]\tvalidation_0-logloss:0.31500\n",
      "[17]\tvalidation_0-logloss:0.31287\n",
      "[18]\tvalidation_0-logloss:0.30902\n",
      "[19]\tvalidation_0-logloss:0.30575\n",
      "[20]\tvalidation_0-logloss:0.30549\n",
      "[21]\tvalidation_0-logloss:0.30701\n",
      "[22]\tvalidation_0-logloss:0.30048\n",
      "[23]\tvalidation_0-logloss:0.29640\n",
      "[24]\tvalidation_0-logloss:0.29433\n",
      "[25]\tvalidation_0-logloss:0.29495\n",
      "[26]\tvalidation_0-logloss:0.29409\n",
      "[27]\tvalidation_0-logloss:0.29599\n",
      "[28]\tvalidation_0-logloss:0.29530\n",
      "[29]\tvalidation_0-logloss:0.29653\n",
      "[30]\tvalidation_0-logloss:0.29697\n",
      "[31]\tvalidation_0-logloss:0.29876\n",
      "[32]\tvalidation_0-logloss:0.29498\n",
      "[33]\tvalidation_0-logloss:0.29453\n",
      "[34]\tvalidation_0-logloss:0.29095\n",
      "[35]\tvalidation_0-logloss:0.28669\n",
      "[36]\tvalidation_0-logloss:0.28696\n",
      "[37]\tvalidation_0-logloss:0.28803\n",
      "[38]\tvalidation_0-logloss:0.28864\n",
      "[39]\tvalidation_0-logloss:0.28835\n",
      "[40]\tvalidation_0-logloss:0.28710\n",
      "[41]\tvalidation_0-logloss:0.28958\n",
      "[42]\tvalidation_0-logloss:0.28890\n",
      "[43]\tvalidation_0-logloss:0.29007\n",
      "[44]\tvalidation_0-logloss:0.28768\n",
      "[45]\tvalidation_0-logloss:0.28596\n",
      "[46]\tvalidation_0-logloss:0.28538\n",
      "[47]\tvalidation_0-logloss:0.28768\n",
      "[48]\tvalidation_0-logloss:0.28778\n",
      "[49]\tvalidation_0-logloss:0.28664\n",
      "[50]\tvalidation_0-logloss:0.28701\n",
      "[51]\tvalidation_0-logloss:0.28591\n",
      "[52]\tvalidation_0-logloss:0.28774\n",
      "[53]\tvalidation_0-logloss:0.28857\n",
      "[54]\tvalidation_0-logloss:0.28892\n",
      "[55]\tvalidation_0-logloss:0.28860\n",
      "[56]\tvalidation_0-logloss:0.28918\n",
      "Stopping. Best iteration:\n",
      "[46]\tvalidation_0-logloss:0.28538\n",
      "\n"
     ]
    },
    {
     "data": {
      "text/plain": [
       "XGBClassifier(base_score=0.5, booster='gbtree', colsample_bylevel=1,\n",
       "              colsample_bynode=1, colsample_bytree=1, gamma=0, gpu_id=-1,\n",
       "              importance_type='gain', interaction_constraints='',\n",
       "              learning_rate=0.300000012, max_delta_step=0, max_depth=6,\n",
       "              min_child_weight=1, missing=nan, monotone_constraints='()',\n",
       "              n_estimators=100, n_jobs=0, num_parallel_tree=1,\n",
       "              objective='binary:logistic', random_state=0, reg_alpha=0,\n",
       "              reg_lambda=1, scale_pos_weight=1, subsample=1,\n",
       "              tree_method='exact', validate_parameters=1, verbosity=None)"
      ]
     },
     "execution_count": 20,
     "metadata": {},
     "output_type": "execute_result"
    }
   ],
   "source": [
    "model.fit(X_train, y_train, \n",
    "          early_stopping_rounds=10, \n",
    "          eval_metric='logloss',\n",
    "         eval_set=eval_set,\n",
    "         verbose=True)"
   ]
  },
  {
   "cell_type": "code",
   "execution_count": 21,
   "metadata": {},
   "outputs": [],
   "source": [
    "y_pred = model.predict(X_test)"
   ]
  },
  {
   "cell_type": "code",
   "execution_count": 25,
   "metadata": {},
   "outputs": [
    {
     "name": "stdout",
     "output_type": "stream",
     "text": [
      "Accuracy 73.62%\n"
     ]
    }
   ],
   "source": [
    "prediction = [round(value) for value in y_pred]\n",
    "accuracy = accuracy_score(y_test, prediction)\n",
    "print('Accuracy %.2f%%' %( accuracy*100.0))"
   ]
  },
  {
   "cell_type": "code",
   "execution_count": 26,
   "metadata": {},
   "outputs": [
    {
     "name": "stdout",
     "output_type": "stream",
     "text": [
      "[0.07536428 0.2485759  0.08882537 0.08890299 0.10708673 0.15929715\n",
      " 0.09709622 0.13485137]\n"
     ]
    }
   ],
   "source": [
    "print(model.feature_importances_)"
   ]
  },
  {
   "cell_type": "code",
   "execution_count": 30,
   "metadata": {},
   "outputs": [
    {
     "data": {
      "image/png": "[encoded data removed]",
      "text/plain": [
       "<Figure size 432x288 with 1 Axes>"
      ]
     },
     "metadata": {
      "needs_background": "light"
     },
     "output_type": "display_data"
    }
   ],
   "source": [
    "plot_importance(model)\n",
    "pyplot.show()"
   ]
  },
  {
   "cell_type": "code",
   "execution_count": 31,
   "metadata": {},
   "outputs": [],
   "source": [
    "n_estimators = [50, 100, 150, 200]#число деревьев\n",
    "max_depth = [2,4,6,8]#максимальная глубина деревьев\n",
    "param_grid = dict(max_depth=max_depth, n_estimators=n_estimators)"
   ]
  },
  {
   "cell_type": "code",
   "execution_count": 33,
   "metadata": {},
   "outputs": [
    {
     "data": {
      "text/plain": [
       "{'max_depth': [2, 4, 6, 8], 'n_estimators': [50, 100, 150, 200]}"
      ]
     },
     "execution_count": 33,
     "metadata": {},
     "output_type": "execute_result"
    }
   ],
   "source": [
    "param_grid"
   ]
  },
  {
   "cell_type": "code",
   "execution_count": 34,
   "metadata": {},
   "outputs": [],
   "source": [
    "from sklearn.model_selection import GridSearchCV\n",
    "from sklearn.model_selection import StratifiedKFold"
   ]
  },
  {
   "cell_type": "code",
   "execution_count": 36,
   "metadata": {},
   "outputs": [],
   "source": [
    "model = XGBClassifier()\n",
    "learning_rate = [0.0001, 0.001, 0.01, 0.1, 0.2, 0.3]\n",
    "param_grid = dict(learning_rate=learning_rate)\n",
    "kfold = StratifiedKFold(n_splits=10, shuffle=True, random_state=7)"
   ]
  },
  {
   "cell_type": "code",
   "execution_count": 37,
   "metadata": {},
   "outputs": [],
   "source": [
    "grid_search = GridSearchCV(model, \n",
    "                           param_grid, \n",
    "                           scoring='neg_log_loss',\n",
    "                           n_jobs=-1,\n",
    "                          cv=kfold)"
   ]
  },
  {
   "cell_type": "code",
   "execution_count": 40,
   "metadata": {},
   "outputs": [
    {
     "name": "stdout",
     "output_type": "stream",
     "text": [
      "Wall time: 778 ms\n"
     ]
    }
   ],
   "source": [
    "%%time\n",
    "grid_result = grid_search.fit(X,Y)"
   ]
  },
  {
   "cell_type": "code",
   "execution_count": 41,
   "metadata": {},
   "outputs": [
    {
     "name": "stdout",
     "output_type": "stream",
     "text": [
      "Best: -0.530152 using {'learning_rate': 0.01}\n"
     ]
    }
   ],
   "source": [
    "print('Best: %f using %s' % (grid_result.best_score_, grid_result.best_params_ ))"
   ]
  },
  {
   "cell_type": "code",
   "execution_count": 43,
   "metadata": {},
   "outputs": [
    {
     "name": "stdout",
     "output_type": "stream",
     "text": [
      "-0.689563 (0.000760) with: {'learning_rate': 0.0001}\n",
      "-0.660868 (0.006202) with: {'learning_rate': 0.001}\n",
      "-0.530152 (0.034452) with: {'learning_rate': 0.01}\n",
      "-0.552723 (0.117636) with: {'learning_rate': 0.1}\n",
      "-0.653341 (0.171609) with: {'learning_rate': 0.2}\n",
      "-0.718789 (0.176641) with: {'learning_rate': 0.3}\n"
     ]
    }
   ],
   "source": [
    "means = grid_result.cv_results_['mean_test_score']\n",
    "stds  = grid_result.cv_results_['std_test_score']\n",
    "params= grid_result.cv_results_['params']\n",
    "for mean, std, param in zip(means,stds,params):\n",
    "    print(\"%f (%f) with: %r\" % (mean,std,param))"
   ]
  },
  {
   "cell_type": "code",
   "execution_count": null,
   "metadata": {},
   "outputs": [],
   "source": []
  },
  {
   "cell_type": "code",
   "execution_count": null,
   "metadata": {},
   "outputs": [],
   "source": []
  }
 ],
 "metadata": {
  "kernelspec": {
   "display_name": "Python 3",
   "language": "python",
   "name": "python3"
  },
  "language_info": {
   "codemirror_mode": {
    "name": "ipython",
    "version": 3
   },
   "file_extension": ".py",
   "mimetype": "text/x-python",
   "name": "python",
   "nbconvert_exporter": "python",
   "pygments_lexer": "ipython3",
   "version": "3.7.7"
  }
 },
 "nbformat": 4,
 "nbformat_minor": 4
}
